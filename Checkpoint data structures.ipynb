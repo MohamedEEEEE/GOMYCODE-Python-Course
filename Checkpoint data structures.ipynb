{
 "cells": [
  {
   "cell_type": "code",
   "execution_count": 13,
   "id": "9c9da233",
   "metadata": {
    "scrolled": true
   },
   "outputs": [
    {
     "name": "stdout",
     "output_type": "stream",
     "text": [
      "9\n",
      "54\n",
      "378\n"
     ]
    }
   ],
   "source": [
    "#Question 1\n",
    "mohamed = [9,6,7]\n",
    "harvord = 1\n",
    "for jh in mohamed:\n",
    "    harvord *= jh\n",
    "    print(harvord)"
   ]
  },
  {
   "cell_type": "code",
   "execution_count": 15,
   "id": "9af1d6a2",
   "metadata": {},
   "outputs": [
    {
     "name": "stdout",
     "output_type": "stream",
     "text": [
      "[(1, 2), (2, 5), (4, 4), (2, 3), (2, 1)]\n",
      "[(1, 2), (4, 4), (2, 5), (2, 3), (2, 1)]\n",
      "[(1, 2), (4, 4), (2, 3), (2, 5), (2, 1)]\n",
      "[(1, 2), (4, 4), (2, 3), (2, 1), (2, 5)]\n",
      "[(1, 2), (2, 3), (4, 4), (2, 1), (2, 5)]\n",
      "[(1, 2), (2, 3), (2, 1), (4, 4), (2, 5)]\n",
      "[(1, 2), (2, 1), (2, 3), (4, 4), (2, 5)]\n",
      "[(2, 1), (1, 2), (2, 3), (4, 4), (2, 5)]\n"
     ]
    }
   ],
   "source": [
    "#Question 2\n",
    "x =[(2, 5),(1, 2),(4, 4),(2, 3), (2, 1)]\n",
    "\n",
    "for h in range(len(x)):\n",
    "    for i in range(len(x)-1):\n",
    "        if x[i][1] >  x[i+1][1]:\n",
    "            x[i],x[i+1] = x[i+1],x[i]\n",
    "            print (x)"
   ]
  },
  {
   "cell_type": "code",
   "execution_count": 22,
   "id": "723dc230",
   "metadata": {
    "scrolled": true
   },
   "outputs": [
    {
     "name": "stdout",
     "output_type": "stream",
     "text": [
      "{'a': 400, 'b': 400, 'c': 300, 'd': 400}\n"
     ]
    }
   ],
   "source": [
    "#Question 3\n",
    "d1 = {'a': 100, 'b': 200, 'c':300}\n",
    "\n",
    "d2 = {'a': 300, 'b': 200, 'd':400}\n",
    "\n",
    "d3 = dict(d1)\n",
    "\n",
    "d3.update(d2)\n",
    "for i,j in d2.items():\n",
    "    for u,s in d1.items():\n",
    "        if i == u:\n",
    "            d3[i]= (j+s)\n",
    "print (d3)\n"
   ]
  },
  {
   "cell_type": "code",
   "execution_count": 2,
   "id": "f1a01fbc",
   "metadata": {},
   "outputs": [
    {
     "name": "stdout",
     "output_type": "stream",
     "text": [
      "9\n",
      "{1: 1}\n",
      "{1: 1, 2: 4}\n",
      "{1: 1, 2: 4, 3: 9}\n",
      "{1: 1, 2: 4, 3: 9, 4: 16}\n",
      "{1: 1, 2: 4, 3: 9, 4: 16, 5: 25}\n",
      "{1: 1, 2: 4, 3: 9, 4: 16, 5: 25, 6: 36}\n",
      "{1: 1, 2: 4, 3: 9, 4: 16, 5: 25, 6: 36, 7: 49}\n",
      "{1: 1, 2: 4, 3: 9, 4: 16, 5: 25, 6: 36, 7: 49, 8: 64}\n",
      "{1: 1, 2: 4, 3: 9, 4: 16, 5: 25, 6: 36, 7: 49, 8: 64, 9: 81}\n"
     ]
    }
   ],
   "source": [
    "#Question 4\n",
    "\n",
    "g = int(input())\n",
    "d = {}\n",
    "for i in range (1, g+1):\n",
    "    d[i] = i*i\n",
    "    print (d)"
   ]
  },
  {
   "cell_type": "code",
   "execution_count": 3,
   "id": "7a8b3fd2",
   "metadata": {},
   "outputs": [
    {
     "ename": "IndentationError",
     "evalue": "unexpected indent (3950954383.py, line 2)",
     "output_type": "error",
     "traceback": [
      "\u001b[1;36m  File \u001b[1;32m\"C:\\Users\\hp\\AppData\\Local\\Temp\\ipykernel_18864\\3950954383.py\"\u001b[1;36m, line \u001b[1;32m2\u001b[0m\n\u001b[1;33m    [('item1', '12.20'), ('item2', '15.10'), ('item3', '24.5')]\u001b[0m\n\u001b[1;37m    ^\u001b[0m\n\u001b[1;31mIndentationError\u001b[0m\u001b[1;31m:\u001b[0m unexpected indent\n"
     ]
    }
   ],
   "source": [
    "#Question 5\n",
    " [('item1', '12.20'), ('item2', '15.10'), ('item3', '24.5')]\n",
    "for h in range(len(x)):\n",
    "    for i in range(len(x)-1):\n",
    "        if float(x[i][1]) >  float(x[i+1][1]):\n",
    "            x[i],x[i+1] = x[i+1],x[i]\n",
    "            print (x)"
   ]
  },
  {
   "cell_type": "code",
   "execution_count": null,
   "id": "17b06e82",
   "metadata": {},
   "outputs": [],
   "source": [
    "#Question 6\n",
    "h = {0, 1, 2, 3, 4}\n",
    "for i in h:\n",
    "    print (i)\n",
    "h.add(4)\n",
    "h.remove(1)\n",
    "print(h)"
   ]
  }
 ],
 "metadata": {
  "kernelspec": {
   "display_name": "Python 3 (ipykernel)",
   "language": "python",
   "name": "python3"
  },
  "language_info": {
   "codemirror_mode": {
    "name": "ipython",
    "version": 3
   },
   "file_extension": ".py",
   "mimetype": "text/x-python",
   "name": "python",
   "nbconvert_exporter": "python",
   "pygments_lexer": "ipython3",
   "version": "3.9.13"
  }
 },
 "nbformat": 4,
 "nbformat_minor": 5
}
